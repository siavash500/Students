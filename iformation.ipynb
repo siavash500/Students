{
 "cells": [
  {
   "cell_type": "code",
   "execution_count": null,
   "metadata": {},
   "outputs": [],
   "source": [
    "خب میخوام درباره این صحبت بکنم که ما در اینجا 4 تا فایل ایجاد کردیم\n",
    "یکی که اصلی است\n",
    "app and the other \n",
    "students and the student and the studentslist\n",
    "خب ما چیزای مورد نیاز و توضیحات رو که نکات مهم در ان قرار دارد را در اینجا مینویسیم!\n",
    "خب شروع کنم با بحث پیچیده اول :"
   ]
  },
  {
   "cell_type": "code",
   "execution_count": null,
   "metadata": {},
   "outputs": [],
   "source": [
    "خب همینطوری در پایین میبینید من یک \n",
    "state \n",
    "ساختم که در آن \n",
    "شماری از id , name , lastname , email , classnumber , phone \n",
    "هست که فقط name lastname email phone \n",
    "استفاده و نمایش داده میشود\n"
   ]
  },
  {
   "cell_type": "code",
   "execution_count": null,
   "metadata": {
    "vscode": {
     "languageId": "javascriptreact"
    }
   },
   "outputs": [],
   "source": [
    "const [Studentss, setStudentss] = useState([\n",
    "    { id: 0, name: 'mahdi',lastname : 'aghzadeh' ,classNumer: 15, phone: 1234, email: 'react@gmail.com' },\n",
    "  ]);\n",
    "  "
   ]
  },
  {
   "cell_type": "markdown",
   "metadata": {},
   "source": [
    "خب \n",
    "(student) یعنی همان ولیویه اد ستویند\n",
    "خب در پایین میگیم زمانیکه نغیرات setstudentss رو اعمال بکن\n",
    "یعنی setstudentss چی رو عمال بکنه ؟؟؟\n",
    "اینارو که \n",
    "([..setstudenss]) رو هرچی داخلش هست رو بگیر\n",
    "بعدش\n",
    ",[...student]"
   ]
  },
  {
   "cell_type": "code",
   "execution_count": null,
   "metadata": {
    "vscode": {
     "languageId": "javascriptreact"
    }
   },
   "outputs": [],
   "source": [
    "const addStudent = (student) => {\n",
    "    setStudentss([...Studentss, { ...student, id: Studentss.length }]);\n",
    "  };"
   ]
  }
 ],
 "metadata": {
  "language_info": {
   "name": "python"
  }
 },
 "nbformat": 4,
 "nbformat_minor": 2
}
